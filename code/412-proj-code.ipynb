{
 "cells": [
  {
   "cell_type": "markdown",
   "id": "cd224213-bd68-4b80-a78b-bdcc28844288",
   "metadata": {
    "editable": true,
    "slideshow": {
     "slide_type": ""
    },
    "tags": []
   },
   "source": [
    "# Imports\n"
   ]
  },
  {
   "cell_type": "code",
   "execution_count": 19,
   "id": "03b988b7-c922-40d7-8bb8-d2b02fd0ea84",
   "metadata": {
    "editable": true,
    "slideshow": {
     "slide_type": ""
    },
    "tags": []
   },
   "outputs": [],
   "source": [
    "import pandas as pd\n",
    "import os\n",
    "%matplotlib inline \n",
    "\n",
    "import numpy as np\n",
    "import matplotlib.pyplot as plt\n",
    "from matplotlib import style\n",
    "style.use('ggplot')\n",
    "\n",
    "from scipy import stats\n",
    "\n",
    "from sklearn.linear_model import LogisticRegression\n",
    "from sklearn.metrics import accuracy_score\n",
    "from sklearn.ensemble import RandomForestClassifier\n",
    "from xgboost import XGBClassifier\n",
    "from sklearn.multioutput import MultiOutputClassifier\n",
    "\n",
    "from sklearn.model_selection import cross_val_score"
   ]
  },
  {
   "cell_type": "markdown",
   "id": "ff37350d-11d3-48df-ab14-3ff65bc1e757",
   "metadata": {},
   "source": [
    "# Read data"
   ]
  },
  {
   "cell_type": "code",
   "execution_count": 2,
   "id": "f5903bc5-5ece-4d83-8557-42e752682059",
   "metadata": {},
   "outputs": [],
   "source": [
    "# import opendatasets as od\n",
    "# dataset = 'https://www.kaggle.com/competitions/child-mind-institute-problematic-internet-use/data'\n",
    "# od.download(dataset)"
   ]
  },
  {
   "cell_type": "code",
   "execution_count": 20,
   "id": "7da8da79-0be0-47af-8552-1442c8455821",
   "metadata": {
    "editable": true,
    "slideshow": {
     "slide_type": ""
    },
    "tags": []
   },
   "outputs": [
    {
     "data": {
      "text/plain": [
       "Index(['id', 'Basic_Demos-Enroll_Season', 'Basic_Demos-Age', 'Basic_Demos-Sex',\n",
       "       'CGAS-Season', 'CGAS-CGAS_Score', 'Physical-Season', 'Physical-BMI',\n",
       "       'Physical-Height', 'Physical-Weight', 'Physical-Waist_Circumference',\n",
       "       'Physical-Diastolic_BP', 'Physical-HeartRate', 'Physical-Systolic_BP',\n",
       "       'Fitness_Endurance-Season', 'Fitness_Endurance-Max_Stage',\n",
       "       'Fitness_Endurance-Time_Mins', 'Fitness_Endurance-Time_Sec',\n",
       "       'FGC-Season', 'FGC-FGC_CU', 'FGC-FGC_CU_Zone', 'FGC-FGC_GSND',\n",
       "       'FGC-FGC_GSND_Zone', 'FGC-FGC_GSD', 'FGC-FGC_GSD_Zone', 'FGC-FGC_PU',\n",
       "       'FGC-FGC_PU_Zone', 'FGC-FGC_SRL', 'FGC-FGC_SRL_Zone', 'FGC-FGC_SRR',\n",
       "       'FGC-FGC_SRR_Zone', 'FGC-FGC_TL', 'FGC-FGC_TL_Zone', 'BIA-Season',\n",
       "       'BIA-BIA_Activity_Level_num', 'BIA-BIA_BMC', 'BIA-BIA_BMI',\n",
       "       'BIA-BIA_BMR', 'BIA-BIA_DEE', 'BIA-BIA_ECW', 'BIA-BIA_FFM',\n",
       "       'BIA-BIA_FFMI', 'BIA-BIA_FMI', 'BIA-BIA_Fat', 'BIA-BIA_Frame_num',\n",
       "       'BIA-BIA_ICW', 'BIA-BIA_LDM', 'BIA-BIA_LST', 'BIA-BIA_SMM',\n",
       "       'BIA-BIA_TBW', 'PAQ_A-Season', 'PAQ_A-PAQ_A_Total', 'PAQ_C-Season',\n",
       "       'PAQ_C-PAQ_C_Total', 'PCIAT-Season', 'PCIAT-PCIAT_01', 'PCIAT-PCIAT_02',\n",
       "       'PCIAT-PCIAT_03', 'PCIAT-PCIAT_04', 'PCIAT-PCIAT_05', 'PCIAT-PCIAT_06',\n",
       "       'PCIAT-PCIAT_07', 'PCIAT-PCIAT_08', 'PCIAT-PCIAT_09', 'PCIAT-PCIAT_10',\n",
       "       'PCIAT-PCIAT_11', 'PCIAT-PCIAT_12', 'PCIAT-PCIAT_13', 'PCIAT-PCIAT_14',\n",
       "       'PCIAT-PCIAT_15', 'PCIAT-PCIAT_16', 'PCIAT-PCIAT_17', 'PCIAT-PCIAT_18',\n",
       "       'PCIAT-PCIAT_19', 'PCIAT-PCIAT_20', 'PCIAT-PCIAT_Total', 'SDS-Season',\n",
       "       'SDS-SDS_Total_Raw', 'SDS-SDS_Total_T', 'PreInt_EduHx-Season',\n",
       "       'PreInt_EduHx-computerinternet_hoursday', 'sii'],\n",
       "      dtype='object')"
      ]
     },
     "execution_count": 20,
     "metadata": {},
     "output_type": "execute_result"
    }
   ],
   "source": [
    "df = pd.read_csv(\"/home/ku18/CS412/dataset/train.csv\")\n",
    "df.columns"
   ]
  },
  {
   "cell_type": "code",
   "execution_count": 21,
   "id": "41a201d4-38fe-4589-83b0-2d0a598335d4",
   "metadata": {
    "editable": true,
    "slideshow": {
     "slide_type": ""
    },
    "tags": []
   },
   "outputs": [],
   "source": [
    "TARGET_COLS = [\n",
    "    # \"PCIAT-PCIAT_01\",\n",
    "    # \"PCIAT-PCIAT_02\",\n",
    "    # \"PCIAT-PCIAT_03\",\n",
    "    # \"PCIAT-PCIAT_04\",\n",
    "    # \"PCIAT-PCIAT_05\",\n",
    "    # \"PCIAT-PCIAT_06\",\n",
    "    # \"PCIAT-PCIAT_07\",\n",
    "    # \"PCIAT-PCIAT_08\",\n",
    "    # \"PCIAT-PCIAT_09\",\n",
    "    # \"PCIAT-PCIAT_10\",\n",
    "    # \"PCIAT-PCIAT_11\",\n",
    "    # \"PCIAT-PCIAT_12\",\n",
    "    # \"PCIAT-PCIAT_13\",\n",
    "    # \"PCIAT-PCIAT_14\",\n",
    "    # \"PCIAT-PCIAT_15\",\n",
    "    # \"PCIAT-PCIAT_16\",\n",
    "    # \"PCIAT-PCIAT_17\",\n",
    "    # \"PCIAT-PCIAT_18\",\n",
    "    # \"PCIAT-PCIAT_19\",\n",
    "    # \"PCIAT-PCIAT_20\",\n",
    "    # \"PCIAT-PCIAT_Total\",\n",
    "    \"sii\"\n",
    "]\n",
    "\n",
    "FEATURE_COLS = [\n",
    "    \"Basic_Demos-Age\",\n",
    "    \"Basic_Demos-Sex\",\n",
    "    \"CGAS-CGAS_Score\",\n",
    "    \"Physical-BMI\",\n",
    "    \"Physical-Height\",\n",
    "    \"Physical-Weight\",\n",
    "    \"Physical-Waist_Circumference\",\n",
    "    \"Physical-Diastolic_BP\",\n",
    "    \"Physical-HeartRate\",\n",
    "    \"Physical-Systolic_BP\",\n",
    "    \"Fitness_Endurance-Max_Stage\",\n",
    "    \"Fitness_Endurance-Time_Mins\",\n",
    "    \"Fitness_Endurance-Time_Sec\",\n",
    "    \"FGC-FGC_CU\",\n",
    "    \"FGC-FGC_CU_Zone\",\n",
    "    \"FGC-FGC_GSND\",\n",
    "    \"FGC-FGC_GSND_Zone\",\n",
    "    \"FGC-FGC_GSD\",\n",
    "    \"FGC-FGC_GSD_Zone\",\n",
    "    \"FGC-FGC_PU\",\n",
    "    \"FGC-FGC_PU_Zone\",\n",
    "    \"FGC-FGC_SRL\",\n",
    "    \"FGC-FGC_SRL_Zone\",\n",
    "    \"FGC-FGC_SRR\",\n",
    "    \"FGC-FGC_SRR_Zone\",\n",
    "    \"FGC-FGC_TL\",\n",
    "    \"FGC-FGC_TL_Zone\",\n",
    "    \"BIA-BIA_Activity_Level_num\",\n",
    "    \"BIA-BIA_BMC\",\n",
    "    \"BIA-BIA_BMI\",\n",
    "    \"BIA-BIA_BMR\",\n",
    "    \"BIA-BIA_DEE\",\n",
    "    \"BIA-BIA_ECW\",\n",
    "    \"BIA-BIA_FFM\",\n",
    "    \"BIA-BIA_FFMI\",\n",
    "    \"BIA-BIA_FMI\",\n",
    "    \"BIA-BIA_Fat\",\n",
    "    \"BIA-BIA_Frame_num\",\n",
    "    \"BIA-BIA_ICW\",\n",
    "    \"BIA-BIA_LDM\",\n",
    "    \"BIA-BIA_LST\",\n",
    "    \"BIA-BIA_SMM\",\n",
    "    \"BIA-BIA_TBW\",\n",
    "    \"PAQ_A-PAQ_A_Total\",\n",
    "    \"PAQ_C-PAQ_C_Total\",\n",
    "    \"SDS-SDS_Total_Raw\",\n",
    "    \"SDS-SDS_Total_T\",\n",
    "    \"PreInt_EduHx-computerinternet_hoursday\",\n",
    "]\n",
    "data = df[FEATURE_COLS]\n",
    "target = df[TARGET_COLS]"
   ]
  },
  {
   "cell_type": "code",
   "execution_count": 22,
   "id": "a3a44969-9db8-49fe-8d81-d324f6ca06e6",
   "metadata": {},
   "outputs": [
    {
     "data": {
      "text/plain": [
       "3960"
      ]
     },
     "execution_count": 22,
     "metadata": {},
     "output_type": "execute_result"
    }
   ],
   "source": [
    "len(data)"
   ]
  },
  {
   "cell_type": "markdown",
   "id": "e34c8d59-21be-462c-98fc-f58fd85403d2",
   "metadata": {},
   "source": [
    "# Missing values in data"
   ]
  },
  {
   "cell_type": "code",
   "execution_count": 23,
   "id": "df1e4202-bb0a-437e-b4ba-2694c0448ba2",
   "metadata": {
    "editable": true,
    "slideshow": {
     "slide_type": ""
    },
    "tags": []
   },
   "outputs": [
    {
     "name": "stdout",
     "output_type": "stream",
     "text": [
      "Basic_Demos-Age                              0\n",
      "Basic_Demos-Sex                              0\n",
      "CGAS-CGAS_Score                           1539\n",
      "Physical-BMI                               938\n",
      "Physical-Height                            933\n",
      "Physical-Weight                            884\n",
      "Physical-Waist_Circumference              3062\n",
      "Physical-Diastolic_BP                     1006\n",
      "Physical-HeartRate                         993\n",
      "Physical-Systolic_BP                      1006\n",
      "Fitness_Endurance-Max_Stage               3217\n",
      "Fitness_Endurance-Time_Mins               3220\n",
      "Fitness_Endurance-Time_Sec                3220\n",
      "FGC-FGC_CU                                1638\n",
      "FGC-FGC_CU_Zone                           1678\n",
      "FGC-FGC_GSND                              2886\n",
      "FGC-FGC_GSND_Zone                         2898\n",
      "FGC-FGC_GSD                               2886\n",
      "FGC-FGC_GSD_Zone                          2897\n",
      "FGC-FGC_PU                                1650\n",
      "FGC-FGC_PU_Zone                           1689\n",
      "FGC-FGC_SRL                               1655\n",
      "FGC-FGC_SRL_Zone                          1693\n",
      "FGC-FGC_SRR                               1653\n",
      "FGC-FGC_SRR_Zone                          1691\n",
      "FGC-FGC_TL                                1636\n",
      "FGC-FGC_TL_Zone                           1675\n",
      "BIA-BIA_Activity_Level_num                1969\n",
      "BIA-BIA_BMC                               1969\n",
      "BIA-BIA_BMI                               1969\n",
      "BIA-BIA_BMR                               1969\n",
      "BIA-BIA_DEE                               1969\n",
      "BIA-BIA_ECW                               1969\n",
      "BIA-BIA_FFM                               1969\n",
      "BIA-BIA_FFMI                              1969\n",
      "BIA-BIA_FMI                               1969\n",
      "BIA-BIA_Fat                               1969\n",
      "BIA-BIA_Frame_num                         1969\n",
      "BIA-BIA_ICW                               1969\n",
      "BIA-BIA_LDM                               1969\n",
      "BIA-BIA_LST                               1969\n",
      "BIA-BIA_SMM                               1969\n",
      "BIA-BIA_TBW                               1969\n",
      "PAQ_A-PAQ_A_Total                         3485\n",
      "PAQ_C-PAQ_C_Total                         2239\n",
      "SDS-SDS_Total_Raw                         1351\n",
      "SDS-SDS_Total_T                           1354\n",
      "PreInt_EduHx-computerinternet_hoursday     659\n",
      "dtype: int64\n"
     ]
    }
   ],
   "source": [
    "print(data.isna().sum())"
   ]
  },
  {
   "cell_type": "markdown",
   "id": "32b0a92c-8dbb-4230-903e-72bd6ab47086",
   "metadata": {
    "editable": true,
    "slideshow": {
     "slide_type": ""
    },
    "tags": []
   },
   "source": [
    "## Iterative imputation to fill in missing values in the dataset|"
   ]
  },
  {
   "cell_type": "code",
   "execution_count": 24,
   "id": "d3b1bed4-5ff6-499d-b42d-51e74c40ae5f",
   "metadata": {},
   "outputs": [],
   "source": [
    "from sklearn.experimental import enable_iterative_imputer \n",
    "from sklearn.impute import IterativeImputer\n",
    "\n",
    "iterative_imputer = IterativeImputer(max_iter=10, random_state=0)\n",
    "\n",
    "data_imputed = pd.DataFrame(iterative_imputer.fit_transform(data))\n",
    "data_imputed.columns = FEATURE_COLS"
   ]
  },
  {
   "cell_type": "markdown",
   "id": "8ed0907d-9343-4954-9618-fbd937d505e7",
   "metadata": {},
   "source": [
    "# Missing values in target"
   ]
  },
  {
   "cell_type": "code",
   "execution_count": 25,
   "id": "5b01fe32-12d2-43eb-a62c-d2ae651068fb",
   "metadata": {},
   "outputs": [
    {
     "name": "stdout",
     "output_type": "stream",
     "text": [
      "sii    1224\n",
      "dtype: int64\n"
     ]
    }
   ],
   "source": [
    "print(target.isna().sum())"
   ]
  },
  {
   "cell_type": "markdown",
   "id": "f146a92b-964a-45f2-8e4c-14791eed29ab",
   "metadata": {},
   "source": [
    "## Label Propogation to fill target values"
   ]
  },
  {
   "cell_type": "code",
   "execution_count": 32,
   "id": "f60ad2f3-e15b-46c5-b725-d1c6ec865ecd",
   "metadata": {},
   "outputs": [],
   "source": [
    "from sklearn.semi_supervised import LabelPropagation\n",
    "from sklearn.preprocessing import StandardScaler\n",
    "target = target.fillna(-1).values.flatten()\n",
    "scaler = StandardScaler()\n",
    "data_scaled = scaler.fit_transform(data)\n",
    "label_prop_model = LabelPropagation(kernel='knn', n_neighbors=5)\n",
    "label_prop_model.fit(data_scaled, target)\n",
    "target_imputed = label_prop_model.transduction_ "
   ]
  },
  {
   "cell_type": "markdown",
   "id": "61326f71-eced-4050-8d2b-fd4efd2a57af",
   "metadata": {},
   "source": [
    "# Classification models"
   ]
  },
  {
   "cell_type": "code",
   "execution_count": 34,
   "id": "3c0a85ed-a3f5-4522-aaa9-9b616c4b788b",
   "metadata": {},
   "outputs": [],
   "source": [
    "X = data_imputed\n",
    "y = target_imputed"
   ]
  },
  {
   "cell_type": "markdown",
   "id": "f6c5a73f-f6b2-49db-a999-e524c45b4c5c",
   "metadata": {},
   "source": [
    "## Classifiers"
   ]
  },
  {
   "cell_type": "code",
   "execution_count": 35,
   "id": "47cd677d-3a41-4884-85ec-5b4143225cad",
   "metadata": {},
   "outputs": [
    {
     "name": "stdout",
     "output_type": "stream",
     "text": [
      "[0.68434343 0.68181818 0.68181818 0.67424242 0.68686869 0.67424242\n",
      " 0.68434343 0.70707071 0.6489899  0.67171717]\n",
      "0.6795454545454545\n"
     ]
    }
   ],
   "source": [
    "# create the model: Random Forest\n",
    "myRF = RandomForestClassifier(max_depth=15, random_state=0, n_estimators=100)\n",
    "\n",
    "# Perform k-fold cross-validation\n",
    "accuracyRF = cross_val_score(myRF,X,y,cv=10)\n",
    "\n",
    "# report accuracy in each fold, and mean accuracy\n",
    "print(accuracyRF)\n",
    "print(np.mean(accuracyRF))"
   ]
  },
  {
   "cell_type": "code",
   "execution_count": 40,
   "id": "510a2420-95a1-4c0c-be00-4bab4724440c",
   "metadata": {},
   "outputs": [
    {
     "name": "stdout",
     "output_type": "stream",
     "text": [
      "[0.68939394 0.66666667 0.66919192 0.68939394 0.68181818 0.68434343\n",
      " 0.67424242 0.73232323 0.63636364 0.69444444]\n",
      "0.6818181818181819\n"
     ]
    }
   ],
   "source": [
    "# create the model: XGBoost\n",
    "myXGB = XGBClassifier(max_depth=15, n_estimators = 100)\n",
    "\n",
    "# Perform k-fold cross-validation\n",
    "accuracyXGB = cross_val_score(myXGB,X,y,cv=10)\n",
    "\n",
    "# report accuracy in each fold, and mean accuracy\n",
    "print(accuracyXGB)\n",
    "print(np.mean(accuracyXGB))"
   ]
  },
  {
   "cell_type": "code",
   "execution_count": 41,
   "id": "c24b9043-39fa-4620-acc6-7caaea900328",
   "metadata": {},
   "outputs": [
    {
     "name": "stdout",
     "output_type": "stream",
     "text": [
      "[0.6489899  0.65656566 0.64646465 0.6489899  0.6489899  0.64646465\n",
      " 0.6489899  0.6489899  0.6540404  0.65151515]\n",
      "0.65\n"
     ]
    }
   ],
   "source": [
    "from sklearn.svm import SVC\n",
    "from sklearn.preprocessing import StandardScaler\n",
    "from sklearn.pipeline import make_pipeline\n",
    "\n",
    "mySVC = make_pipeline(StandardScaler(), SVC(kernel='linear', random_state=42))\n",
    "accuracySVC = cross_val_score(mySVC,X,y,cv=10)\n",
    "print(accuracySVC)\n",
    "print(np.mean(accuracySVC))"
   ]
  },
  {
   "cell_type": "code",
   "execution_count": 43,
   "id": "bbfb7c7a-f626-4277-bba8-79d9c95a56e3",
   "metadata": {},
   "outputs": [],
   "source": [
    "import torch\n",
    "import torch.nn as nn\n",
    "import torch.optim as optim\n",
    "from torch.utils.data import DataLoader, TensorDataset\n",
    "from sklearn.model_selection import train_test_split\n",
    "from sklearn.preprocessing import StandardScaler\n",
    "\n",
    "X_train, X_test, y_train, y_test = train_test_split(X, y, test_size=0.2, random_state=42, stratify=y)\n",
    "\n",
    "# Standardize features\n",
    "scaler = StandardScaler()\n",
    "X_train = scaler.fit_transform(X_train)\n",
    "X_test = scaler.transform(X_test)\n",
    "\n",
    "# Convert data to PyTorch tensors\n",
    "X_train_tensor = torch.tensor(X_train, dtype=torch.float32)\n",
    "X_test_tensor = torch.tensor(X_test, dtype=torch.float32)\n",
    "y_train_tensor = torch.tensor(y_train, dtype=torch.long)\n",
    "y_test_tensor = torch.tensor(y_test, dtype=torch.long)\n",
    "\n",
    "# Create data loaders\n",
    "train_data = TensorDataset(X_train_tensor, y_train_tensor)\n",
    "test_data = TensorDataset(X_test_tensor, y_test_tensor)\n",
    "train_loader = DataLoader(train_data, batch_size=32, shuffle=True)\n",
    "test_loader = DataLoader(test_data, batch_size=32, shuffle=False)\n",
    "\n",
    "# Define the Feedforward Neural Network Model\n",
    "class FFN(nn.Module):\n",
    "    def __init__(self, input_dim, hidden_dim, output_dim):\n",
    "        super(FFN, self).__init__()\n",
    "        self.fc1 = nn.Linear(input_dim, hidden_dim)\n",
    "        self.relu = nn.ReLU()\n",
    "        self.fc2 = nn.Linear(hidden_dim, hidden_dim)\n",
    "        self.fc3 = nn.Linear(hidden_dim, output_dim)\n",
    "        self.softmax = nn.Softmax(dim=1)\n",
    "    \n",
    "    def forward(self, x):\n",
    "        x = self.fc1(x)\n",
    "        x = self.relu(x)\n",
    "        x = self.fc2(x)\n",
    "        x = self.relu(x)\n",
    "        x = self.fc3(x)\n",
    "        return self.softmax(x)  # For prediction, softmax is used to output class probabilities\n",
    "\n",
    "# Instantiate the model\n",
    "input_dim = X_train.shape[1]\n",
    "hidden_dim = 64  # Example hidden layer size, adjust as needed\n",
    "output_dim = len(set(y))  # Number of classes\n",
    "model = FFN(input_dim, hidden_dim, output_dim)\n",
    "\n",
    "# Define Loss and Optimizer\n",
    "criterion = nn.CrossEntropyLoss()  # Suitable for multi-class classification\n",
    "optimizer = optim.Adam(model.parameters(), lr=0.001)\n"
   ]
  },
  {
   "cell_type": "code",
   "execution_count": 44,
   "id": "d01d3a85-3834-4573-be6a-c7930806cec0",
   "metadata": {},
   "outputs": [
    {
     "name": "stdout",
     "output_type": "stream",
     "text": [
      "Epoch [1/50], Loss: 1.1930\n",
      "Epoch [2/50], Loss: 1.0814\n",
      "Epoch [3/50], Loss: 1.0649\n",
      "Epoch [4/50], Loss: 1.0554\n",
      "Epoch [5/50], Loss: 1.0467\n",
      "Epoch [6/50], Loss: 1.0405\n",
      "Epoch [7/50], Loss: 1.0327\n",
      "Epoch [8/50], Loss: 1.0234\n",
      "Epoch [9/50], Loss: 1.0171\n",
      "Epoch [10/50], Loss: 1.0136\n",
      "Epoch [11/50], Loss: 1.0081\n",
      "Epoch [12/50], Loss: 1.0048\n",
      "Epoch [13/50], Loss: 1.0012\n",
      "Epoch [14/50], Loss: 0.9977\n",
      "Epoch [15/50], Loss: 0.9947\n",
      "Epoch [16/50], Loss: 0.9920\n",
      "Epoch [17/50], Loss: 0.9896\n",
      "Epoch [18/50], Loss: 0.9873\n",
      "Epoch [19/50], Loss: 0.9846\n",
      "Epoch [20/50], Loss: 0.9827\n",
      "Epoch [21/50], Loss: 0.9784\n",
      "Epoch [22/50], Loss: 0.9763\n",
      "Epoch [23/50], Loss: 0.9739\n",
      "Epoch [24/50], Loss: 0.9708\n",
      "Epoch [25/50], Loss: 0.9701\n",
      "Epoch [26/50], Loss: 0.9683\n",
      "Epoch [27/50], Loss: 0.9669\n",
      "Epoch [28/50], Loss: 0.9656\n",
      "Epoch [29/50], Loss: 0.9630\n",
      "Epoch [30/50], Loss: 0.9620\n",
      "Epoch [31/50], Loss: 0.9606\n",
      "Epoch [32/50], Loss: 0.9611\n",
      "Epoch [33/50], Loss: 0.9587\n",
      "Epoch [34/50], Loss: 0.9582\n",
      "Epoch [35/50], Loss: 0.9567\n",
      "Epoch [36/50], Loss: 0.9564\n",
      "Epoch [37/50], Loss: 0.9561\n",
      "Epoch [38/50], Loss: 0.9545\n",
      "Epoch [39/50], Loss: 0.9528\n",
      "Epoch [40/50], Loss: 0.9519\n",
      "Epoch [41/50], Loss: 0.9519\n",
      "Epoch [42/50], Loss: 0.9523\n",
      "Epoch [43/50], Loss: 0.9510\n",
      "Epoch [44/50], Loss: 0.9509\n",
      "Epoch [45/50], Loss: 0.9519\n",
      "Epoch [46/50], Loss: 0.9539\n",
      "Epoch [47/50], Loss: 0.9529\n",
      "Epoch [48/50], Loss: 0.9505\n",
      "Epoch [49/50], Loss: 0.9482\n",
      "Epoch [50/50], Loss: 0.9481\n"
     ]
    }
   ],
   "source": [
    "# Training parameters\n",
    "num_epochs = 50  # Adjust based on model performance and dataset size\n",
    "\n",
    "# Training loop\n",
    "for epoch in range(num_epochs):\n",
    "    model.train()\n",
    "    total_loss = 0\n",
    "    for X_batch, y_batch in train_loader:\n",
    "        # Forward pass\n",
    "        outputs = model(X_batch)\n",
    "        loss = criterion(outputs, y_batch)\n",
    "        \n",
    "        # Backward pass and optimization\n",
    "        optimizer.zero_grad()\n",
    "        loss.backward()\n",
    "        optimizer.step()\n",
    "        \n",
    "        total_loss += loss.item()\n",
    "    \n",
    "    avg_loss = total_loss / len(train_loader)\n",
    "    print(f\"Epoch [{epoch+1}/{num_epochs}], Loss: {avg_loss:.4f}\")\n"
   ]
  },
  {
   "cell_type": "code",
   "execution_count": 46,
   "id": "90765d45-40bf-45a5-bb36-da0532f72b84",
   "metadata": {},
   "outputs": [
    {
     "name": "stdout",
     "output_type": "stream",
     "text": [
      "Test Accuracy: 67.55%\n"
     ]
    }
   ],
   "source": [
    "# Evaluation\n",
    "model.eval()\n",
    "correct = 0\n",
    "total = 0\n",
    "with torch.no_grad():\n",
    "    for X_batch, y_batch in test_loader:\n",
    "        outputs = model(X_batch)\n",
    "        _, predicted = torch.max(outputs, 1)  # Get the predicted class\n",
    "        total += y_batch.size(0)\n",
    "        correct += (predicted == y_batch).sum().item()\n",
    "\n",
    "accuracy = 100 * correct / total\n",
    "print(f\"Test Accuracy: {accuracy:.2f}%\")\n"
   ]
  },
  {
   "cell_type": "markdown",
   "id": "893c80f3-ac47-4193-9221-8031f7622fa2",
   "metadata": {},
   "source": [
    "# test.csv performance"
   ]
  },
  {
   "cell_type": "code",
   "execution_count": 47,
   "id": "aaa105c4-976b-4e94-bc54-2ca6b24b0dcb",
   "metadata": {},
   "outputs": [
    {
     "data": {
      "text/plain": [
       "Index(['id', 'Basic_Demos-Enroll_Season', 'Basic_Demos-Age', 'Basic_Demos-Sex',\n",
       "       'CGAS-Season', 'CGAS-CGAS_Score', 'Physical-Season', 'Physical-BMI',\n",
       "       'Physical-Height', 'Physical-Weight', 'Physical-Waist_Circumference',\n",
       "       'Physical-Diastolic_BP', 'Physical-HeartRate', 'Physical-Systolic_BP',\n",
       "       'Fitness_Endurance-Season', 'Fitness_Endurance-Max_Stage',\n",
       "       'Fitness_Endurance-Time_Mins', 'Fitness_Endurance-Time_Sec',\n",
       "       'FGC-Season', 'FGC-FGC_CU', 'FGC-FGC_CU_Zone', 'FGC-FGC_GSND',\n",
       "       'FGC-FGC_GSND_Zone', 'FGC-FGC_GSD', 'FGC-FGC_GSD_Zone', 'FGC-FGC_PU',\n",
       "       'FGC-FGC_PU_Zone', 'FGC-FGC_SRL', 'FGC-FGC_SRL_Zone', 'FGC-FGC_SRR',\n",
       "       'FGC-FGC_SRR_Zone', 'FGC-FGC_TL', 'FGC-FGC_TL_Zone', 'BIA-Season',\n",
       "       'BIA-BIA_Activity_Level_num', 'BIA-BIA_BMC', 'BIA-BIA_BMI',\n",
       "       'BIA-BIA_BMR', 'BIA-BIA_DEE', 'BIA-BIA_ECW', 'BIA-BIA_FFM',\n",
       "       'BIA-BIA_FFMI', 'BIA-BIA_FMI', 'BIA-BIA_Fat', 'BIA-BIA_Frame_num',\n",
       "       'BIA-BIA_ICW', 'BIA-BIA_LDM', 'BIA-BIA_LST', 'BIA-BIA_SMM',\n",
       "       'BIA-BIA_TBW', 'PAQ_A-Season', 'PAQ_A-PAQ_A_Total', 'PAQ_C-Season',\n",
       "       'PAQ_C-PAQ_C_Total', 'SDS-Season', 'SDS-SDS_Total_Raw',\n",
       "       'SDS-SDS_Total_T', 'PreInt_EduHx-Season',\n",
       "       'PreInt_EduHx-computerinternet_hoursday'],\n",
       "      dtype='object')"
      ]
     },
     "execution_count": 47,
     "metadata": {},
     "output_type": "execute_result"
    }
   ],
   "source": [
    "df = pd.read_csv(\"/home/ku18/CS412/dataset/test.csv\")\n",
    "df.columns"
   ]
  },
  {
   "cell_type": "code",
   "execution_count": 48,
   "id": "616aad87-d49c-4a7e-91d8-d84c97872dd4",
   "metadata": {},
   "outputs": [],
   "source": [
    "data = df[FEATURE_COLS]"
   ]
  },
  {
   "cell_type": "code",
   "execution_count": 49,
   "id": "a9995f8d-99c0-4d0b-9dfa-eb88debe17ae",
   "metadata": {},
   "outputs": [
    {
     "data": {
      "text/plain": [
       "20"
      ]
     },
     "execution_count": 49,
     "metadata": {},
     "output_type": "execute_result"
    }
   ],
   "source": [
    "len(data)"
   ]
  },
  {
   "cell_type": "code",
   "execution_count": 50,
   "id": "046565bb-4623-4f0d-9751-bd153aa8b334",
   "metadata": {},
   "outputs": [
    {
     "data": {
      "text/plain": [
       "Basic_Demos-Age                            0\n",
       "Basic_Demos-Sex                            0\n",
       "CGAS-CGAS_Score                           12\n",
       "Physical-BMI                               7\n",
       "Physical-Height                            7\n",
       "Physical-Weight                            7\n",
       "Physical-Waist_Circumference              15\n",
       "Physical-Diastolic_BP                      9\n",
       "Physical-HeartRate                         8\n",
       "Physical-Systolic_BP                       9\n",
       "Fitness_Endurance-Max_Stage               17\n",
       "Fitness_Endurance-Time_Mins               17\n",
       "Fitness_Endurance-Time_Sec                17\n",
       "FGC-FGC_CU                                 7\n",
       "FGC-FGC_CU_Zone                            7\n",
       "FGC-FGC_GSND                              15\n",
       "FGC-FGC_GSND_Zone                         15\n",
       "FGC-FGC_GSD                               15\n",
       "FGC-FGC_GSD_Zone                          15\n",
       "FGC-FGC_PU                                 7\n",
       "FGC-FGC_PU_Zone                            7\n",
       "FGC-FGC_SRL                                7\n",
       "FGC-FGC_SRL_Zone                           7\n",
       "FGC-FGC_SRR                                7\n",
       "FGC-FGC_SRR_Zone                           7\n",
       "FGC-FGC_TL                                 7\n",
       "FGC-FGC_TL_Zone                            7\n",
       "BIA-BIA_Activity_Level_num                12\n",
       "BIA-BIA_BMC                               12\n",
       "BIA-BIA_BMI                               12\n",
       "BIA-BIA_BMR                               12\n",
       "BIA-BIA_DEE                               12\n",
       "BIA-BIA_ECW                               12\n",
       "BIA-BIA_FFM                               12\n",
       "BIA-BIA_FFMI                              12\n",
       "BIA-BIA_FMI                               12\n",
       "BIA-BIA_Fat                               12\n",
       "BIA-BIA_Frame_num                         12\n",
       "BIA-BIA_ICW                               12\n",
       "BIA-BIA_LDM                               12\n",
       "BIA-BIA_LST                               12\n",
       "BIA-BIA_SMM                               12\n",
       "BIA-BIA_TBW                               12\n",
       "PAQ_A-PAQ_A_Total                         19\n",
       "PAQ_C-PAQ_C_Total                         11\n",
       "SDS-SDS_Total_Raw                         10\n",
       "SDS-SDS_Total_T                           10\n",
       "PreInt_EduHx-computerinternet_hoursday     4\n",
       "dtype: int64"
      ]
     },
     "execution_count": 50,
     "metadata": {},
     "output_type": "execute_result"
    }
   ],
   "source": [
    "data.isna().sum()"
   ]
  },
  {
   "cell_type": "code",
   "execution_count": 51,
   "id": "f31b9d46-5ec2-4738-9547-e5bf9b67a3ee",
   "metadata": {},
   "outputs": [
    {
     "name": "stderr",
     "output_type": "stream",
     "text": [
      "/opt/conda/lib/python3.11/site-packages/sklearn/impute/_iterative.py:825: ConvergenceWarning: [IterativeImputer] Early stopping criterion not reached.\n",
      "  warnings.warn(\n"
     ]
    }
   ],
   "source": [
    "from sklearn.experimental import enable_iterative_imputer \n",
    "from sklearn.impute import IterativeImputer\n",
    "\n",
    "iterative_imputer = IterativeImputer(max_iter=10, random_state=0)\n",
    "\n",
    "data_imputed = pd.DataFrame(iterative_imputer.fit_transform(data))\n",
    "data_imputed.columns = FEATURE_COLS"
   ]
  },
  {
   "cell_type": "code",
   "execution_count": null,
   "id": "85477138",
   "metadata": {},
   "outputs": [],
   "source": []
  }
 ],
 "metadata": {
  "kernelspec": {
   "display_name": "Python 3 (ipykernel)",
   "language": "python",
   "name": "python3"
  },
  "language_info": {
   "codemirror_mode": {
    "name": "ipython",
    "version": 3
   },
   "file_extension": ".py",
   "mimetype": "text/x-python",
   "name": "python",
   "nbconvert_exporter": "python",
   "pygments_lexer": "ipython3",
   "version": "3.11.6"
  }
 },
 "nbformat": 4,
 "nbformat_minor": 5
}
