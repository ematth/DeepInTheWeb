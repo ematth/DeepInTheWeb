{
 "cells": [
  {
   "cell_type": "markdown",
   "id": "cd224213-bd68-4b80-a78b-bdcc28844288",
   "metadata": {
    "editable": true,
    "slideshow": {
     "slide_type": ""
    },
    "tags": []
   },
   "source": [
    "# Imports\n"
   ]
  },
  {
   "cell_type": "code",
   "execution_count": 1,
   "id": "03b988b7-c922-40d7-8bb8-d2b02fd0ea84",
   "metadata": {
    "editable": true,
    "slideshow": {
     "slide_type": ""
    },
    "tags": []
   },
   "outputs": [],
   "source": [
    "import pandas as pd\n",
    "import os\n",
    "%matplotlib inline \n",
    "\n",
    "import numpy as np\n",
    "import matplotlib.pyplot as plt\n",
    "from matplotlib import style\n",
    "style.use('ggplot')\n",
    "\n",
    "from scipy import stats\n",
    "\n",
    "from sklearn.linear_model import LogisticRegression\n",
    "from sklearn.metrics import accuracy_score\n",
    "from sklearn.ensemble import RandomForestClassifier\n",
    "from xgboost import XGBClassifier\n",
    "from sklearn.multioutput import MultiOutputClassifier\n",
    "\n",
    "from sklearn.model_selection import cross_val_score"
   ]
  },
  {
   "cell_type": "markdown",
   "id": "ff37350d-11d3-48df-ab14-3ff65bc1e757",
   "metadata": {},
   "source": [
    "# Read data"
   ]
  },
  {
   "cell_type": "code",
   "execution_count": 2,
   "id": "f5903bc5-5ece-4d83-8557-42e752682059",
   "metadata": {},
   "outputs": [],
   "source": [
    "# import opendatasets as od\n",
    "# dataset = 'https://www.kaggle.com/competitions/child-mind-institute-problematic-internet-use/data'\n",
    "# od.download(dataset)"
   ]
  },
  {
   "cell_type": "code",
   "execution_count": 3,
   "id": "7da8da79-0be0-47af-8552-1442c8455821",
   "metadata": {
    "editable": true,
    "slideshow": {
     "slide_type": ""
    },
    "tags": []
   },
   "outputs": [
    {
     "data": {
      "text/plain": [
       "Index(['id', 'Basic_Demos-Enroll_Season', 'Basic_Demos-Age', 'Basic_Demos-Sex',\n",
       "       'CGAS-Season', 'CGAS-CGAS_Score', 'Physical-Season', 'Physical-BMI',\n",
       "       'Physical-Height', 'Physical-Weight', 'Physical-Waist_Circumference',\n",
       "       'Physical-Diastolic_BP', 'Physical-HeartRate', 'Physical-Systolic_BP',\n",
       "       'Fitness_Endurance-Season', 'Fitness_Endurance-Max_Stage',\n",
       "       'Fitness_Endurance-Time_Mins', 'Fitness_Endurance-Time_Sec',\n",
       "       'FGC-Season', 'FGC-FGC_CU', 'FGC-FGC_CU_Zone', 'FGC-FGC_GSND',\n",
       "       'FGC-FGC_GSND_Zone', 'FGC-FGC_GSD', 'FGC-FGC_GSD_Zone', 'FGC-FGC_PU',\n",
       "       'FGC-FGC_PU_Zone', 'FGC-FGC_SRL', 'FGC-FGC_SRL_Zone', 'FGC-FGC_SRR',\n",
       "       'FGC-FGC_SRR_Zone', 'FGC-FGC_TL', 'FGC-FGC_TL_Zone', 'BIA-Season',\n",
       "       'BIA-BIA_Activity_Level_num', 'BIA-BIA_BMC', 'BIA-BIA_BMI',\n",
       "       'BIA-BIA_BMR', 'BIA-BIA_DEE', 'BIA-BIA_ECW', 'BIA-BIA_FFM',\n",
       "       'BIA-BIA_FFMI', 'BIA-BIA_FMI', 'BIA-BIA_Fat', 'BIA-BIA_Frame_num',\n",
       "       'BIA-BIA_ICW', 'BIA-BIA_LDM', 'BIA-BIA_LST', 'BIA-BIA_SMM',\n",
       "       'BIA-BIA_TBW', 'PAQ_A-Season', 'PAQ_A-PAQ_A_Total', 'PAQ_C-Season',\n",
       "       'PAQ_C-PAQ_C_Total', 'PCIAT-Season', 'PCIAT-PCIAT_01', 'PCIAT-PCIAT_02',\n",
       "       'PCIAT-PCIAT_03', 'PCIAT-PCIAT_04', 'PCIAT-PCIAT_05', 'PCIAT-PCIAT_06',\n",
       "       'PCIAT-PCIAT_07', 'PCIAT-PCIAT_08', 'PCIAT-PCIAT_09', 'PCIAT-PCIAT_10',\n",
       "       'PCIAT-PCIAT_11', 'PCIAT-PCIAT_12', 'PCIAT-PCIAT_13', 'PCIAT-PCIAT_14',\n",
       "       'PCIAT-PCIAT_15', 'PCIAT-PCIAT_16', 'PCIAT-PCIAT_17', 'PCIAT-PCIAT_18',\n",
       "       'PCIAT-PCIAT_19', 'PCIAT-PCIAT_20', 'PCIAT-PCIAT_Total', 'SDS-Season',\n",
       "       'SDS-SDS_Total_Raw', 'SDS-SDS_Total_T', 'PreInt_EduHx-Season',\n",
       "       'PreInt_EduHx-computerinternet_hoursday', 'sii'],\n",
       "      dtype='object')"
      ]
     },
     "execution_count": 3,
     "metadata": {},
     "output_type": "execute_result"
    }
   ],
   "source": [
    "df = pd.read_csv(\"/home/ku18/CS412/dataset/train.csv\")\n",
    "df.columns"
   ]
  },
  {
   "cell_type": "code",
   "execution_count": 4,
   "id": "41a201d4-38fe-4589-83b0-2d0a598335d4",
   "metadata": {
    "editable": true,
    "slideshow": {
     "slide_type": ""
    },
    "tags": []
   },
   "outputs": [],
   "source": [
    "TARGET_COLS = [\n",
    "    # \"PCIAT-PCIAT_01\",\n",
    "    # \"PCIAT-PCIAT_02\",\n",
    "    # \"PCIAT-PCIAT_03\",\n",
    "    # \"PCIAT-PCIAT_04\",\n",
    "    # \"PCIAT-PCIAT_05\",\n",
    "    # \"PCIAT-PCIAT_06\",\n",
    "    # \"PCIAT-PCIAT_07\",\n",
    "    # \"PCIAT-PCIAT_08\",\n",
    "    # \"PCIAT-PCIAT_09\",\n",
    "    # \"PCIAT-PCIAT_10\",\n",
    "    # \"PCIAT-PCIAT_11\",\n",
    "    # \"PCIAT-PCIAT_12\",\n",
    "    # \"PCIAT-PCIAT_13\",\n",
    "    # \"PCIAT-PCIAT_14\",\n",
    "    # \"PCIAT-PCIAT_15\",\n",
    "    # \"PCIAT-PCIAT_16\",\n",
    "    # \"PCIAT-PCIAT_17\",\n",
    "    # \"PCIAT-PCIAT_18\",\n",
    "    # \"PCIAT-PCIAT_19\",\n",
    "    # \"PCIAT-PCIAT_20\",\n",
    "    # \"PCIAT-PCIAT_Total\",\n",
    "    \"sii\"\n",
    "]\n",
    "\n",
    "FEATURE_COLS = [\n",
    "    \"Basic_Demos-Age\",\n",
    "    \"Basic_Demos-Sex\",\n",
    "    \"CGAS-CGAS_Score\",\n",
    "    \"Physical-BMI\",\n",
    "    \"Physical-Height\",\n",
    "    \"Physical-Weight\",\n",
    "    \"Physical-Waist_Circumference\",\n",
    "    \"Physical-Diastolic_BP\",\n",
    "    \"Physical-HeartRate\",\n",
    "    \"Physical-Systolic_BP\",\n",
    "    \"Fitness_Endurance-Max_Stage\",\n",
    "    \"Fitness_Endurance-Time_Mins\",\n",
    "    \"Fitness_Endurance-Time_Sec\",\n",
    "    \"FGC-FGC_CU\",\n",
    "    \"FGC-FGC_CU_Zone\",\n",
    "    \"FGC-FGC_GSND\",\n",
    "    \"FGC-FGC_GSND_Zone\",\n",
    "    \"FGC-FGC_GSD\",\n",
    "    \"FGC-FGC_GSD_Zone\",\n",
    "    \"FGC-FGC_PU\",\n",
    "    \"FGC-FGC_PU_Zone\",\n",
    "    \"FGC-FGC_SRL\",\n",
    "    \"FGC-FGC_SRL_Zone\",\n",
    "    \"FGC-FGC_SRR\",\n",
    "    \"FGC-FGC_SRR_Zone\",\n",
    "    \"FGC-FGC_TL\",\n",
    "    \"FGC-FGC_TL_Zone\",\n",
    "    \"BIA-BIA_Activity_Level_num\",\n",
    "    \"BIA-BIA_BMC\",\n",
    "    \"BIA-BIA_BMI\",\n",
    "    \"BIA-BIA_BMR\",\n",
    "    \"BIA-BIA_DEE\",\n",
    "    \"BIA-BIA_ECW\",\n",
    "    \"BIA-BIA_FFM\",\n",
    "    \"BIA-BIA_FFMI\",\n",
    "    \"BIA-BIA_FMI\",\n",
    "    \"BIA-BIA_Fat\",\n",
    "    \"BIA-BIA_Frame_num\",\n",
    "    \"BIA-BIA_ICW\",\n",
    "    \"BIA-BIA_LDM\",\n",
    "    \"BIA-BIA_LST\",\n",
    "    \"BIA-BIA_SMM\",\n",
    "    \"BIA-BIA_TBW\",\n",
    "    \"PAQ_A-PAQ_A_Total\",\n",
    "    \"PAQ_C-PAQ_C_Total\",\n",
    "    \"SDS-SDS_Total_Raw\",\n",
    "    \"SDS-SDS_Total_T\",\n",
    "    \"PreInt_EduHx-computerinternet_hoursday\",\n",
    "]\n",
    "data = df[FEATURE_COLS]\n",
    "target = df[TARGET_COLS]"
   ]
  },
  {
   "cell_type": "code",
   "execution_count": 5,
   "id": "a3a44969-9db8-49fe-8d81-d324f6ca06e6",
   "metadata": {},
   "outputs": [
    {
     "data": {
      "text/plain": [
       "3960"
      ]
     },
     "execution_count": 5,
     "metadata": {},
     "output_type": "execute_result"
    }
   ],
   "source": [
    "len(data)"
   ]
  },
  {
   "cell_type": "markdown",
   "id": "e34c8d59-21be-462c-98fc-f58fd85403d2",
   "metadata": {},
   "source": [
    "# Missing values in data"
   ]
  },
  {
   "cell_type": "code",
   "execution_count": 6,
   "id": "df1e4202-bb0a-437e-b4ba-2694c0448ba2",
   "metadata": {
    "editable": true,
    "slideshow": {
     "slide_type": ""
    },
    "tags": []
   },
   "outputs": [
    {
     "name": "stdout",
     "output_type": "stream",
     "text": [
      "Basic_Demos-Age                              0\n",
      "Basic_Demos-Sex                              0\n",
      "CGAS-CGAS_Score                           1539\n",
      "Physical-BMI                               938\n",
      "Physical-Height                            933\n",
      "Physical-Weight                            884\n",
      "Physical-Waist_Circumference              3062\n",
      "Physical-Diastolic_BP                     1006\n",
      "Physical-HeartRate                         993\n",
      "Physical-Systolic_BP                      1006\n",
      "Fitness_Endurance-Max_Stage               3217\n",
      "Fitness_Endurance-Time_Mins               3220\n",
      "Fitness_Endurance-Time_Sec                3220\n",
      "FGC-FGC_CU                                1638\n",
      "FGC-FGC_CU_Zone                           1678\n",
      "FGC-FGC_GSND                              2886\n",
      "FGC-FGC_GSND_Zone                         2898\n",
      "FGC-FGC_GSD                               2886\n",
      "FGC-FGC_GSD_Zone                          2897\n",
      "FGC-FGC_PU                                1650\n",
      "FGC-FGC_PU_Zone                           1689\n",
      "FGC-FGC_SRL                               1655\n",
      "FGC-FGC_SRL_Zone                          1693\n",
      "FGC-FGC_SRR                               1653\n",
      "FGC-FGC_SRR_Zone                          1691\n",
      "FGC-FGC_TL                                1636\n",
      "FGC-FGC_TL_Zone                           1675\n",
      "BIA-BIA_Activity_Level_num                1969\n",
      "BIA-BIA_BMC                               1969\n",
      "BIA-BIA_BMI                               1969\n",
      "BIA-BIA_BMR                               1969\n",
      "BIA-BIA_DEE                               1969\n",
      "BIA-BIA_ECW                               1969\n",
      "BIA-BIA_FFM                               1969\n",
      "BIA-BIA_FFMI                              1969\n",
      "BIA-BIA_FMI                               1969\n",
      "BIA-BIA_Fat                               1969\n",
      "BIA-BIA_Frame_num                         1969\n",
      "BIA-BIA_ICW                               1969\n",
      "BIA-BIA_LDM                               1969\n",
      "BIA-BIA_LST                               1969\n",
      "BIA-BIA_SMM                               1969\n",
      "BIA-BIA_TBW                               1969\n",
      "PAQ_A-PAQ_A_Total                         3485\n",
      "PAQ_C-PAQ_C_Total                         2239\n",
      "SDS-SDS_Total_Raw                         1351\n",
      "SDS-SDS_Total_T                           1354\n",
      "PreInt_EduHx-computerinternet_hoursday     659\n",
      "dtype: int64\n"
     ]
    }
   ],
   "source": [
    "print(data.isna().sum())"
   ]
  },
  {
   "cell_type": "markdown",
   "id": "32b0a92c-8dbb-4230-903e-72bd6ab47086",
   "metadata": {
    "editable": true,
    "slideshow": {
     "slide_type": ""
    },
    "tags": []
   },
   "source": [
    "## Iterative imputation to fill in missing values in the dataset|"
   ]
  },
  {
   "cell_type": "code",
   "execution_count": null,
   "id": "d3b1bed4-5ff6-499d-b42d-51e74c40ae5f",
   "metadata": {},
   "outputs": [],
   "source": [
    "from sklearn.experimental import enable_iterative_imputer \n",
    "from sklearn.impute import IterativeImputer\n",
    "\n",
    "iterative_imputer = IterativeImputer(max_iter=10, random_state=0)\n",
    "\n",
    "data = pd.DataFrame(iterative_imputer.fit_transform(data))\n",
    "data.columns = FEATURE_COLS"
   ]
  },
  {
   "cell_type": "markdown",
   "id": "8ed0907d-9343-4954-9618-fbd937d505e7",
   "metadata": {},
   "source": [
    "# Missing values in target"
   ]
  },
  {
   "cell_type": "code",
   "execution_count": null,
   "id": "5b01fe32-12d2-43eb-a62c-d2ae651068fb",
   "metadata": {},
   "outputs": [],
   "source": [
    "print(target.isna().sum())"
   ]
  },
  {
   "cell_type": "markdown",
   "id": "5ed86d6e-ee83-43ae-a124-8e9a53c62bce",
   "metadata": {},
   "source": [
    "## drop missing target values"
   ]
  },
  {
   "cell_type": "code",
   "execution_count": null,
   "id": "f69e49d0-8180-49a6-a664-8e6c5ab2cca8",
   "metadata": {},
   "outputs": [],
   "source": [
    "df = pd.concat([data, target], axis = 1)"
   ]
  },
  {
   "cell_type": "code",
   "execution_count": null,
   "id": "1059991f-efe6-4cba-b106-c8b790a38115",
   "metadata": {},
   "outputs": [],
   "source": [
    "df = df.dropna()"
   ]
  },
  {
   "cell_type": "code",
   "execution_count": null,
   "id": "f6218072-adf9-49f6-99cd-66259c10325f",
   "metadata": {},
   "outputs": [],
   "source": [
    "print(len(df))"
   ]
  },
  {
   "cell_type": "markdown",
   "id": "61326f71-eced-4050-8d2b-fd4efd2a57af",
   "metadata": {},
   "source": [
    "# Classification models"
   ]
  },
  {
   "cell_type": "code",
   "execution_count": null,
   "id": "3c0a85ed-a3f5-4522-aaa9-9b616c4b788b",
   "metadata": {},
   "outputs": [],
   "source": [
    "X = df[FEATURE_COLS]\n",
    "y = df[TARGET_COLS]\n",
    "y = y.values.flatten()\n",
    "print(len(X))\n",
    "print(len(y))"
   ]
  },
  {
   "cell_type": "markdown",
   "id": "f6c5a73f-f6b2-49db-a999-e524c45b4c5c",
   "metadata": {},
   "source": [
    "## Classifiers"
   ]
  },
  {
   "cell_type": "code",
   "execution_count": null,
   "id": "47cd677d-3a41-4884-85ec-5b4143225cad",
   "metadata": {},
   "outputs": [],
   "source": [
    "# create the model: Random Forest\n",
    "myRF = RandomForestClassifier(max_depth=15, random_state=0, n_estimators=100)\n",
    "\n",
    "# Perform k-fold cross-validation\n",
    "accuracyRF = cross_val_score(myRF,X,y,cv=10)\n",
    "\n",
    "# report accuracy in each fold, and mean accuracy\n",
    "print(accuracyRF)\n",
    "print(np.mean(accuracyRF))"
   ]
  },
  {
   "cell_type": "code",
   "execution_count": null,
   "id": "510a2420-95a1-4c0c-be00-4bab4724440c",
   "metadata": {},
   "outputs": [],
   "source": [
    "# create the model: XGBoost\n",
    "myXGB = XGBClassifier(max_depth=15)\n",
    "\n",
    "# Perform k-fold cross-validation\n",
    "accuracyXGB = cross_val_score(myXGB,X,y,cv=10)\n",
    "\n",
    "# report accuracy in each fold, and mean accuracy\n",
    "print(accuracyXGB)\n",
    "print(np.mean(accuracyXGB))"
   ]
  },
  {
   "cell_type": "code",
   "execution_count": null,
   "id": "c24b9043-39fa-4620-acc6-7caaea900328",
   "metadata": {},
   "outputs": [],
   "source": [
    "from sklearn.svm import SVC\n",
    "from sklearn.preprocessing import StandardScaler\n",
    "from sklearn.pipeline import make_pipeline\n",
    "\n",
    "mySVC = make_pipeline(StandardScaler(), SVC(kernel='linear', random_state=42))\n",
    "accuracySVC = cross_val_score(mySVC,X,y,cv=10)\n",
    "print(accuracySVC)\n",
    "print(np.mean(accuracySVC))"
   ]
  },
  {
   "cell_type": "code",
   "execution_count": null,
   "id": "bbfb7c7a-f626-4277-bba8-79d9c95a56e3",
   "metadata": {},
   "outputs": [],
   "source": [
    "import numpy as np\n",
    "import pandas as pd\n",
    "from sklearn.model_selection import train_test_split\n",
    "from sklearn.preprocessing import StandardScaler\n",
    "from tensorflow import keras\n",
    "from tensorflow.keras import layers\n",
    "\n",
    "# Example data setup (replace with your actual data)\n",
    "# X = pd.DataFrame(...)  # Your feature matrix\n",
    "# y = pd.Series(...)     # Your target variable\n",
    "\n",
    "# Preprocess the data\n",
    "# Split into training and test sets\n",
    "X_train, X_test, y_train, y_test = train_test_split(X, y, test_size=0.1, random_state=42)\n",
    "\n",
    "# Scale the features\n",
    "scaler = StandardScaler()\n",
    "X_train = scaler.fit_transform(X_train)\n",
    "X_test = scaler.transform(X_test)\n",
    "\n",
    "# Build the FFN model\n",
    "model = keras.Sequential()\n",
    "model.add(layers.Input(shape=(X_train.shape[1],)) )  # Input layer\n",
    "model.add(layers.Dense(64, activation='relu'))         # First hidden layer\n",
    "model.add(layers.Dense(64, activation='relu'))         # Second hidden layer\n",
    "model.add(layers.Dense(1, activation='sigmoid'))       # Output layer for binary classification\n",
    "# For multi-class classification, use:\n",
    "# model.add(layers.Dense(num_classes, activation='softmax'))\n",
    "\n",
    "# Compile the model\n",
    "model.compile(optimizer='adam',\n",
    "              loss='categorical_crossentropy',  # Use 'categorical_crossentropy' for multi-class\n",
    "              metrics=['accuracy'])\n",
    " \n",
    "# Train the model\n",
    "history = model.fit(X_train, y_train, epochs=50, batch_size=32, validation_split=0.2)\n",
    "\n",
    "# Evaluate the model\n",
    "test_loss, test_accuracy = model.evaluate(X_test, y_test)\n",
    "print(f'Test accuracy: {test_accuracy:.4f}')\n",
    "\n",
    "# Optionally, plot the training history\n",
    "import matplotlib.pyplot as plt\n",
    "\n",
    "plt.plot(history.history['accuracy'], label='Train Accuracy')\n",
    "plt.plot(history.history['val_accuracy'], label='Validation Accuracy')\n",
    "plt.title('Model Accuracy')\n",
    "plt.xlabel('Epoch')\n",
    "plt.ylabel('Accuracy')\n",
    "plt.legend()\n",
    "plt.show()\n"
   ]
  },
  {
   "cell_type": "code",
   "execution_count": null,
   "id": "755af125-fd94-4ca1-93f7-d1f444f8d655",
   "metadata": {},
   "outputs": [],
   "source": []
  }
 ],
 "metadata": {
  "kernelspec": {
   "display_name": "Python 3 (ipykernel)",
   "language": "python",
   "name": "python3"
  },
  "language_info": {
   "codemirror_mode": {
    "name": "ipython",
    "version": 3
   },
   "file_extension": ".py",
   "mimetype": "text/x-python",
   "name": "python",
   "nbconvert_exporter": "python",
   "pygments_lexer": "ipython3",
   "version": "3.11.6"
  }
 },
 "nbformat": 4,
 "nbformat_minor": 5
}
